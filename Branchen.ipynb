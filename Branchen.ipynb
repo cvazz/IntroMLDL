{
 "nbformat": 4,
 "nbformat_minor": 2,
 "metadata": {
  "language_info": {
   "name": "python",
   "codemirror_mode": {
    "name": "ipython",
    "version": 3
   },
   "version": "3.6.9-final"
  },
  "orig_nbformat": 2,
  "file_extension": ".py",
  "mimetype": "text/x-python",
  "name": "python",
  "npconvert_exporter": "python",
  "pygments_lexer": "ipython3",
  "version": 3,
  "kernelspec": {
   "name": "python3",
   "display_name": "Python 3"
  }
 },
 "cells": [
  {
   "cell_type": "code",
   "execution_count": 17,
   "metadata": {},
   "outputs": [],
   "source": [
    "import pandas as pd "
   ]
  },
  {
   "cell_type": "code",
   "execution_count": 18,
   "metadata": {},
   "outputs": [
    {
     "data": {
      "text/html": "<div>\n<style scoped>\n    .dataframe tbody tr th:only-of-type {\n        vertical-align: middle;\n    }\n\n    .dataframe tbody tr th {\n        vertical-align: top;\n    }\n\n    .dataframe thead th {\n        text-align: right;\n    }\n</style>\n<table border=\"1\" class=\"dataframe\">\n  <thead>\n    <tr style=\"text-align: right;\">\n      <th></th>\n      <th>Security</th>\n      <th>GICS Sector</th>\n      <th>GICS Sub Industry</th>\n      <th>start at yahoo</th>\n    </tr>\n    <tr>\n      <th>Ticker symbol</th>\n      <th></th>\n      <th></th>\n      <th></th>\n      <th></th>\n    </tr>\n  </thead>\n  <tbody>\n    <tr>\n      <th>MMM</th>\n      <td>3M Company</td>\n      <td>Industrials</td>\n      <td>Industrial Conglomerates</td>\n      <td>1970-01-02 00:00:00</td>\n    </tr>\n    <tr>\n      <th>ABT</th>\n      <td>Abbott Laboratories</td>\n      <td>Health Care</td>\n      <td>Health Care Equipment</td>\n      <td>1980-03-17 00:00:00</td>\n    </tr>\n    <tr>\n      <th>ABBV</th>\n      <td>AbbVie Inc.</td>\n      <td>Health Care</td>\n      <td>Pharmaceuticals</td>\n      <td>2013-01-02 00:00:00</td>\n    </tr>\n    <tr>\n      <th>ACN</th>\n      <td>Accenture plc</td>\n      <td>Information Technology</td>\n      <td>IT Consulting &amp; Other Services</td>\n      <td>2001-07-19 00:00:00</td>\n    </tr>\n    <tr>\n      <th>ATVI</th>\n      <td>Activision Blizzard</td>\n      <td>Information Technology</td>\n      <td>Home Entertainment Software</td>\n      <td>1993-10-25 00:00:00</td>\n    </tr>\n  </tbody>\n</table>\n</div>",
      "text/plain": "                          Security             GICS Sector  \\\nTicker symbol                                                \nMMM                     3M Company             Industrials   \nABT            Abbott Laboratories             Health Care   \nABBV                   AbbVie Inc.             Health Care   \nACN                  Accenture plc  Information Technology   \nATVI           Activision Blizzard  Information Technology   \n\n                            GICS Sub Industry       start at yahoo  \nTicker symbol                                                       \nMMM                  Industrial Conglomerates  1970-01-02 00:00:00  \nABT                     Health Care Equipment  1980-03-17 00:00:00  \nABBV                          Pharmaceuticals  2013-01-02 00:00:00  \nACN            IT Consulting & Other Services  2001-07-19 00:00:00  \nATVI              Home Entertainment Software  1993-10-25 00:00:00  "
     },
     "execution_count": 18,
     "metadata": {},
     "output_type": "execute_result"
    }
   ],
   "source": [
    "pd.read_csv('snp500info.csv', index_col=0).head()"
   ]
  },
  {
   "cell_type": "code",
   "execution_count": 23,
   "metadata": {},
   "outputs": [
    {
     "data": {
      "text/html": "<div>\n<style scoped>\n    .dataframe tbody tr th:only-of-type {\n        vertical-align: middle;\n    }\n\n    .dataframe tbody tr th {\n        vertical-align: top;\n    }\n\n    .dataframe thead th {\n        text-align: right;\n    }\n</style>\n<table border=\"1\" class=\"dataframe\">\n  <thead>\n    <tr style=\"text-align: right;\">\n      <th></th>\n      <th>GICS Sector</th>\n    </tr>\n    <tr>\n      <th>Ticker symbol</th>\n      <th></th>\n    </tr>\n  </thead>\n  <tbody>\n    <tr>\n      <th>MMM</th>\n      <td>Industrials</td>\n    </tr>\n    <tr>\n      <th>ABT</th>\n      <td>Health Care</td>\n    </tr>\n    <tr>\n      <th>ABBV</th>\n      <td>Health Care</td>\n    </tr>\n    <tr>\n      <th>ACN</th>\n      <td>Information Technology</td>\n    </tr>\n    <tr>\n      <th>ATVI</th>\n      <td>Information Technology</td>\n    </tr>\n    <tr>\n      <th>...</th>\n      <td>...</td>\n    </tr>\n    <tr>\n      <th>XYL</th>\n      <td>Industrials</td>\n    </tr>\n    <tr>\n      <th>YUM</th>\n      <td>Consumer Discretionary</td>\n    </tr>\n    <tr>\n      <th>ZBH</th>\n      <td>Health Care</td>\n    </tr>\n    <tr>\n      <th>ZION</th>\n      <td>Financials</td>\n    </tr>\n    <tr>\n      <th>ZTS</th>\n      <td>Health Care</td>\n    </tr>\n  </tbody>\n</table>\n<p>505 rows × 1 columns</p>\n</div>",
      "text/plain": "                          GICS Sector\nTicker symbol                        \nMMM                       Industrials\nABT                       Health Care\nABBV                      Health Care\nACN            Information Technology\nATVI           Information Technology\n...                               ...\nXYL                       Industrials\nYUM            Consumer Discretionary\nZBH                       Health Care\nZION                       Financials\nZTS                       Health Care\n\n[505 rows x 1 columns]"
     },
     "execution_count": 23,
     "metadata": {},
     "output_type": "execute_result"
    }
   ],
   "source": [
    "branches_ = pd.read_csv('snp500info.csv', index_col=0)\n",
    "branches = branches_.drop(columns = ['Security', 'GICS Sub Industry', 'start at yahoo'])\n",
    "branches\n"
   ]
  },
  {
   "cell_type": "code",
   "execution_count": 26,
   "metadata": {},
   "outputs": [
    {
     "name": "stdout",
     "output_type": "stream",
     "text": "[ 5  4  4  6  6  5  6  6  0 10  4  3  3  4  7  6  5  7  8  4  4  5  4  6\n 10  3  6  6  1  0 10  5 10  3  3  8 10  3  4  5  4  6  2  6  2  6  4  3\n  5  2  8  6  6  1  5  3  3  9  6  6  0  8  7  2  7  3  3  4  4  3  4  3\n  0  4  3  3  5  0  8  4  3  4  6  1  5  6  2  6  1  3  4  3  0  0  5  8\n  0  4  4 10  9  4  7  3  0  2  2  0  3  1  4  2  3  5  6  3  3  6  1  3\n 10  1  6  1  0  3  1  2  2 10  1  4  6  1  1  8  6  5  5  1  0  4  0  4\n  5  0  5  4  2  8  3  0  0  0  0  0 10  5  7  1 10  8 10  6  3  7  5  6\n  7 10  4  6  5 10  4  2  2  5  8  8  8  1 10  3 10  0  5  4  8  2  6  6\n  5  8  5  6  3 10  6  6  5  5  7  0  0  5  5  3  7  0  0  6  5  5  8  1\n  0  0  4  6  3  0  5  2  0  0  6  3  0  4  8  2  4  1  2  6  0  4  0  5\n  1  8  6  4  3  4  5  5  4  5  6  3  6  4  7  0  7  6  4  3  4  8  5  5\n  1  4  5  3  6  5  1  3  1  8  2  6  0  1  1  0  5  4  6  0  0  3  4  3\n  0  5  3  0  7  3  8  0  2  2  0  3  7  5  6  0  1  0  4  4  4  3  4  0\n  0  6  6  6  8  0  1  1  7  1  3  3  7  6  4  3  2  3  6  6  0  2  7  0\n  0 10  5  0 10  2  0  5  3  5  0 10  7  6  0  2  0  2  6  5  7  5  4  6\n  6  5  3  1  4  4  4 10  1  2 10  2  3  0  7 10  7  0  3  1  3  8  3 10\n  8  0  0  6  5  6  4  2  3  5  8  6  8  4  3  5  4  5  5  5  5  0  0  6\n  8 10  2  0  6  7 10  7  0  8  6  8  0 10  5  3  0  0  3  5  4  3  6  3\n  6  1  3  0  0  6  2  6  5  4  0  0  0  3  6  0  5  3  0  0  0  1  8  0\n  3  0  0  5  5  4  5  5  5  4  3  0  2  4  8  6  5  9  4  0  6  8  7  1\n  1  0  5  4 10  3  8  6  6  7  8  0  2  3  0  0 10  6  6  3  5  0  4  3\n  4]\n[[0. 0. 0. ... 0. 0. 0.]\n [0. 0. 0. ... 0. 0. 0.]\n [0. 0. 0. ... 0. 0. 0.]\n ...\n [0. 0. 0. ... 0. 0. 0.]\n [0. 0. 0. ... 0. 0. 0.]\n [0. 0. 0. ... 0. 0. 0.]]\n"
    }
   ],
   "source": [
    "from numpy import array\n",
    "from numpy import argmax\n",
    "from keras.utils import to_categorical\n",
    "from sklearn.preprocessing import LabelEncoder\n",
    "from sklearn.preprocessing import OneHotEncoder\n",
    "data = branches.iloc[:,0]\n",
    "# integer encode\n",
    "label_encoder = LabelEncoder()\n",
    "integer_encoded = label_encoder.fit_transform(data)\n",
    "print(integer_encoded)\n",
    "# binary encode\n",
    "onehot_encoder = OneHotEncoder(sparse=False)\n",
    "integer_encoded = integer_encoded.reshape(len(integer_encoded), 1)\n",
    "onehot_encoded = onehot_encoder.fit_transform(integer_encoded)\n",
    "print(onehot_encoded)\n",
    "# invert first example\n",
    "#inverted = label_encoder.inverse_transform([argmax(onehot_encoded[0, :])])\n",
    "#print(inverted)"
   ]
  },
  {
   "cell_type": "code",
   "execution_count": null,
   "metadata": {},
   "outputs": [],
   "source": []
  }
 ]
}